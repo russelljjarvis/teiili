{
 "cells": [
  {
   "cell_type": "code",
   "execution_count": null,
   "metadata": {},
   "outputs": [],
   "source": [
    "# SPDX-License-Identifier: MIT\n",
    "# Copyright (c) 2018 University of Zurich"
   ]
  },
  {
   "cell_type": "markdown",
   "metadata": {},
   "source": [
    "# Visualization - General structure\n",
    "* *** Model *** : The model represents the data, and does nothing else. The model does NOT depend on the controller or the view.\n",
    "    * EventsModel\n",
    "    * StateVariablesModel\n",
    "    * ...\n",
    "    \n",
    "* *** View *** : The view displays the model data, and sends user actions (e.g. button clicks) to the controller. The view can:\n",
    "* be independent of both the model and the controller; or\n",
    "* actually be the controller, and therefore depend on the model.\n",
    "    * HistogramViewer\n",
    "    * RasterplotViewer\n",
    "    * LineplotViewer\n",
    "    * ...\n",
    "    \n",
    "* *** Controller *** : The controller provides model data to the view, and interprets user actions such as button clicks. The controller depends on the view and the model. In some cases, the controller and the view are the same object.\n",
    "    * HistogramController (called Histogram)\n",
    "    * RasterplotController (called Rasterplot)\n",
    "    * LineplotController (called Lineplot)\n",
    "    * ...\n",
    "    \n",
    "* *** PlotSettings()***\n",
    "    * font sizes\n",
    "    * ...\n",
    "\n",
    "\n",
    "# How to use it - in short\n",
    "** 1) get data **\n",
    "\n",
    "spikemonN1, spikemonN2, statemonN1, statemonN2 = run_your_own_brian_network()\n",
    "\n",
    "** 2) define PLOTSETTING **\n",
    "\n",
    "from teili.tools.visualizer.DataViewers import PlotSettings\n",
    "MyPlotSettings = PlotSettings(fontsize_title=20, fontsize_legend=14, fontsize_axis_labels=14,\n",
    "                               marker_size = 30,colors = ['r', 'b', 'g', 'c', 'k', 'm', 'y'])\n",
    "                               \n",
    "** 3) call CONTROLLER of desired type of plot, e.g. Histogram, Rasterplot, Lineplot, ... **\n",
    "\n",
    "from teili.tools.visualizer.DataControllers import Histogram\n",
    "DataModel_to_attr =  [(spikemonN1, 'i'), (spikemonN2, 'i')]\n",
    "subgroup_labels    = ['N1',               'N2']\n",
    "HC = Histogram(MyPlotSettings=MyPlotSettings,\n",
    "                 DataModel_to_attr=DataModel_to_attr,\n",
    "                 subgroup_labels=subgroup_labels,\n",
    "                 backend='matplotlib')"
   ]
  },
  {
   "cell_type": "markdown",
   "metadata": {
    "collapsed": true
   },
   "source": [
    "### If you want to change anything else on the main figure/window or one of the subplots ... \n",
    "\n",
    "... you can directly access the mainfigure (matplotlib: figure, pyqtgraph: qt-window) as\n",
    "* **my_controller.mainfig**\n",
    "* or the corresponding subplot under **my_controller.subfig**"
   ]
  },
  {
   "cell_type": "markdown",
   "metadata": {},
   "source": [
    " "
   ]
  },
  {
   "cell_type": "markdown",
   "metadata": {},
   "source": [
    " "
   ]
  },
  {
   "cell_type": "markdown",
   "metadata": {},
   "source": [
    "# How to use it - the slightly longer version"
   ]
  },
  {
   "cell_type": "code",
   "execution_count": 1,
   "metadata": {},
   "outputs": [
    {
     "name": "stdout",
     "output_type": "stream",
     "text": [
      "Populating the interactive namespace from numpy and matplotlib\n"
     ]
    }
   ],
   "source": [
    "%pylab inline\n",
    "import numpy as np\n",
    "import os\n",
    "import sys\n",
    "sys.path.append(os.getenv(\"HOME\")+'/Dropbox/src/teili/')\n",
    "\n",
    "from brian2 import us, ms, second, prefs, defaultclock, start_scope, SpikeGeneratorGroup, SpikeMonitor, StateMonitor\n",
    "import matplotlib.pylab as plt\n",
    "import pyqtgraph as pg\n",
    "from PyQt5 import QtGui\n",
    "\n",
    "from teili.core.groups import Neurons, Connections\n",
    "from teili import TeiliNetwork\n",
    "from teili.models.neuron_models import DPI\n",
    "from teili.models.synapse_models import DPISyn\n",
    "from teili.models.parameters.dpi_neuron_param import parameters as neuron_model_param\n",
    "from teili.models.parameters.dpi_synapse_param import parameters as synapse_model_param\n",
    "\n",
    "QtApp = QtGui.QApplication([])"
   ]
  },
  {
   "cell_type": "code",
   "execution_count": 2,
   "metadata": {},
   "outputs": [],
   "source": [
    "def run_brian_network():\n",
    "    prefs.codegen.target = \"numpy\"\n",
    "    defaultclock.dt = 10 * us\n",
    "    \n",
    "    start_scope()\n",
    "    N_input, N_N1, N_N2 = 1, 5, 3\n",
    "    duration_sim = 100\n",
    "    Net = TeiliNetwork()\n",
    "    # setup spike generator\n",
    "    spikegen_spike_times = np.sort(np.random.choice(size=500, a=np.arange(float(defaultclock.dt), float(duration_sim*ms)*0.9,\n",
    "                                                                          float(defaultclock.dt*5)), replace=False)) * second\n",
    "    spikegen_neuron_ids  = np.zeros_like(spikegen_spike_times) / ms\n",
    "    gInpGroup = SpikeGeneratorGroup(N_input, indices=spikegen_neuron_ids,\n",
    "                                    times=spikegen_spike_times, name='gtestInp')\n",
    "    # setup neurons\n",
    "    testNeurons1 = Neurons(N_N1, equation_builder=DPI(num_inputs=2), name=\"testNeuron\")\n",
    "    testNeurons1.set_params(neuron_model_param)\n",
    "    testNeurons2 = Neurons(N_N2, equation_builder=DPI(num_inputs=2), name=\"testNeuron2\")\n",
    "    testNeurons2.set_params(neuron_model_param)\n",
    "    # setup connections\n",
    "    InpSyn = Connections(gInpGroup, testNeurons1, equation_builder=DPISyn(), name=\"testSyn\", verbose=False)\n",
    "    InpSyn.connect(True)\n",
    "    InpSyn.weight = '200 + rand() * 100'\n",
    "    Syn = Connections(testNeurons1, testNeurons2, equation_builder=DPISyn(), name=\"testSyn2\", verbose=False)\n",
    "    Syn.connect(True)\n",
    "    Syn.weight = '200 + rand() * 100'\n",
    "    # spike monitors input and network\n",
    "    spikemonInp = SpikeMonitor(gInpGroup, name='spikemonInp')\n",
    "    spikemonN1 = SpikeMonitor(testNeurons1, name='spikemon')\n",
    "    spikemonN2 = SpikeMonitor(testNeurons2, name='spikemonOut')\n",
    "    # state monitor neurons\n",
    "    # statemonN1 = StateMonitor(testNeurons1, variables=[\"Iin\", \"Imem\"], record=[0, 3], name='statemonNeu')\n",
    "    statemonN1 = StateMonitor(testNeurons1, variables=[\"Iin\", \"Iahp\"], record=True, name='statemonNeu')\n",
    "    # statemonN2 = StateMonitor(testNeurons2, variables=['Iahp'], record=0, name='statemonNeuOut')\n",
    "    statemonN2 = StateMonitor(testNeurons2, variables=['Imem'], record=True, name='statemonNeuOut')    \n",
    "    \n",
    "    Net.add(gInpGroup, testNeurons1, testNeurons2, InpSyn, Syn, spikemonN1, spikemonN2, statemonN1, statemonN2)\n",
    "    # run simulation\n",
    "    Net.run(duration_sim * ms)\n",
    "    print ('Simulation run for {} ms'.format(duration_sim))\n",
    "    return spikemonN1, spikemonN2, statemonN1, statemonN2"
   ]
  },
  {
   "cell_type": "markdown",
   "metadata": {},
   "source": [
    "# 1. Get the data to plot"
   ]
  },
  {
   "cell_type": "markdown",
   "metadata": {},
   "source": [
    "## Option A: run brian network to get SpikeMonitors and StateMonitors"
   ]
  },
  {
   "cell_type": "code",
   "execution_count": 3,
   "metadata": {},
   "outputs": [
    {
     "name": "stdout",
     "output_type": "stream",
     "text": [
      "Simulation run for 100 ms\n"
     ]
    }
   ],
   "source": [
    "''' Run brian network and return SpikeMonitors and StateMonitors of different variables and neurongroups '''\n",
    "spikemonN1, spikemonN2, statemonN1, statemonN2 = run_brian_network()"
   ]
  },
  {
   "cell_type": "markdown",
   "metadata": {},
   "source": [
    "## Option B: create DataModel instance from arrays, lists or brian-SpikeMonitors/StateMonitors\n",
    "\n",
    "### Available DataModels:\n",
    "* EventsModels --> stores neuron_ids and spike_times\n",
    "* StateVariablesModel --> stores any number of variables with their name and the list of timepoints when the variable was sampled"
   ]
  },
  {
   "cell_type": "markdown",
   "metadata": {},
   "source": [
    "### EventsModel"
   ]
  },
  {
   "cell_type": "code",
   "execution_count": 4,
   "metadata": {},
   "outputs": [
    {
     "name": "stdout",
     "output_type": "stream",
     "text": [
      "Then the created EventsModel EM has the following attributes:\n",
      "neuron_ids : \n",
      " [3 4 1 0 2 3 4 1 0 2 3 4 1 0 2 3 4 1 0 2 3 4 1 0 2 3 4 1 0 2 3 4 1 0 2 3 4\n",
      " 1 0 2 3 4 1 0 2 3 4 1 0 2 3 4 1 0 2 3 4 1 0 2 3 4 1 0 3 2 4 1 3 0 2 4 1 3\n",
      " 0 2 4 1 3 0 2 4 1 3 0 2 4 3 1 0 2 4 3 1 0 2 4 3 1 0 2 4 3 1 0 2 4 3 1 0 2\n",
      " 4 3 1 0 2 4 3 1 0 2 4 3 1 0 2 3 4 1 0 2 3 4 1 0 3 2 4 1 0 3 4 2 1 3 0 4 2\n",
      " 1 3 0 4 2 1 3 0 4 2 1 3 0 4 2 1 3 4 0 2 1 3 4 0 2 1 3 4 0 2 1 3 4 0 2 3 1\n",
      " 4 0 2 3 1 4 0 2 3 1 4 0 3 2 1 4 0 3 2 1]\n",
      "spike_times : \n",
      " [0.00387 0.004   0.00405 0.00411 0.00413 0.00628 0.00651 0.00659 0.00669\n",
      " 0.00673 0.0085  0.0088  0.00891 0.00903 0.00908 0.0107  0.0111  0.01124\n",
      " 0.01139 0.01145 0.01278 0.01326 0.01344 0.01363 0.0137  0.01491 0.01552\n",
      " 0.01574 0.01595 0.01603 0.01699 0.01764 0.01788 0.01812 0.01821 0.01907\n",
      " 0.01984 0.02012 0.02039 0.02049 0.02108 0.02183 0.02216 0.02247 0.02259\n",
      " 0.02304 0.02391 0.02426 0.0246  0.02473 0.02506 0.02604 0.02644 0.02684\n",
      " 0.027   0.02719 0.02822 0.02867 0.02914 0.02932 0.02935 0.03047 0.03094\n",
      " 0.03139 0.03144 0.03155 0.03261 0.03313 0.03351 0.03359 0.03375 0.0347\n",
      " 0.03525 0.03554 0.03576 0.03594 0.03682 0.03731 0.03748 0.03781 0.038\n",
      " 0.03885 0.03937 0.03945 0.03987 0.04005 0.04084 0.04141 0.04142 0.042\n",
      " 0.04222 0.04304 0.04359 0.04372 0.04438 0.04459 0.04526 0.04569 0.04591\n",
      " 0.04663 0.04688 0.04752 0.04786 0.04816 0.04878 0.04902 0.04953 0.0498\n",
      " 0.05021 0.0509  0.05117 0.05161 0.0518  0.05233 0.05309 0.05338 0.05373\n",
      " 0.05384 0.05449 0.05522 0.0555  0.05575 0.05579 0.05655 0.05743 0.05774\n",
      " 0.05788 0.05792 0.0587  0.05949 0.05978 0.05978 0.05989 0.06072 0.06163\n",
      " 0.0618  0.06194 0.06198 0.06289 0.06389 0.06391 0.06419 0.06423 0.06514\n",
      " 0.06605 0.06618 0.06643 0.06656 0.06748 0.06828 0.06855 0.06871 0.0689\n",
      " 0.06966 0.07033 0.07075 0.07086 0.07114 0.07195 0.0725  0.07303 0.07306\n",
      " 0.07343 0.07423 0.07471 0.0754  0.07545 0.0759  0.07656 0.07688 0.07763\n",
      " 0.07774 0.07815 0.07875 0.07899 0.07997 0.08017 0.08062 0.0811  0.08119\n",
      " 0.08212 0.08238 0.08286 0.08328 0.0833  0.08428 0.08459 0.08509 0.08537\n",
      " 0.0855  0.08647 0.08687 0.08744 0.08757 0.08783 0.08879 0.08929 0.08982\n",
      " 0.08987 0.0902  0.09128 0.0921  0.09261 0.09306 0.09351]\n"
     ]
    }
   ],
   "source": [
    "# create from array/list\n",
    "from teili.tools.visualizer.DataModels import EventsModel\n",
    "neuron_ids  = [1, 1, 1, 2, 3, 1, 4, 5]\n",
    "spike_times = [11, 14, 14, 16, 17, 25, 36, 40]\n",
    "EM = EventsModel(neuron_ids=neuron_ids, spike_times=spike_times)\n",
    "\n",
    "# create from brian spike monitor\n",
    "EM = EventsModel.from_brian_spike_monitor(spikemonN1)\n",
    "\n",
    "print('Then the created EventsModel EM has the following attributes:')\n",
    "for var in vars(EM):\n",
    "    print(var,': \\n', getattr(EM, var))"
   ]
  },
  {
   "cell_type": "markdown",
   "metadata": {},
   "source": [
    "### StateVariablesModel"
   ]
  },
  {
   "cell_type": "code",
   "execution_count": 5,
   "metadata": {},
   "outputs": [
    {
     "name": "stdout",
     "output_type": "stream",
     "text": [
      "Then the created StateVariablesModel SVM has the following attributes:\n",
      "Iin : \n",
      " [[0.00000000e+00 0.00000000e+00 0.00000000e+00 0.00000000e+00\n",
      "  0.00000000e+00]\n",
      " [0.00000000e+00 0.00000000e+00 0.00000000e+00 0.00000000e+00\n",
      "  0.00000000e+00]\n",
      " [0.00000000e+00 0.00000000e+00 0.00000000e+00 0.00000000e+00\n",
      "  0.00000000e+00]\n",
      " ...\n",
      " [6.82521123e-09 7.02939025e-09 6.74769896e-09 7.76629202e-09\n",
      "  7.21872104e-09]\n",
      " [6.81237889e-09 7.01617406e-09 6.73501234e-09 7.75169045e-09\n",
      "  7.20514890e-09]\n",
      " [6.79957068e-09 7.00298271e-09 6.72234958e-09 7.73711634e-09\n",
      "  7.19160228e-09]]\n",
      "t_Iin : \n",
      " [0.000e+00 1.000e-05 2.000e-05 ... 9.997e-02 9.998e-02 9.999e-02]\n",
      "Iahp : \n",
      " [[5.00000000e-13 5.00000000e-13 5.00000000e-13 5.00000000e-13\n",
      "  5.00000000e-13]\n",
      " [5.00000000e-13 5.00000000e-13 5.00000000e-13 5.00000000e-13\n",
      "  5.00000000e-13]\n",
      " [5.00000000e-13 5.00000000e-13 5.00000000e-13 5.00000000e-13\n",
      "  5.00000000e-13]\n",
      " ...\n",
      " [2.35349697e-11 2.45322975e-11 2.37997191e-11 2.54116963e-11\n",
      "  2.38412778e-11]\n",
      " [2.35283328e-11 2.45253794e-11 2.37930076e-11 2.54045302e-11\n",
      "  2.38345545e-11]\n",
      " [2.35216978e-11 2.45184633e-11 2.37862979e-11 2.53973662e-11\n",
      "  2.38278332e-11]]\n",
      "t_Iahp : \n",
      " [0.000e+00 1.000e-05 2.000e-05 ... 9.997e-02 9.998e-02 9.999e-02]\n",
      "Imem : \n",
      " [[0.00000000e+00 0.00000000e+00 0.00000000e+00]\n",
      " [4.74578721e-33 4.74578721e-33 4.74578721e-33]\n",
      " [9.49157441e-33 9.49157441e-33 9.49157441e-33]\n",
      " ...\n",
      " [1.14559533e-10 2.80317027e-10 3.29995059e-10]\n",
      " [1.15005619e-10 2.80084652e-10 3.29576244e-10]\n",
      " [1.15447969e-10 2.79851599e-10 3.29157605e-10]]\n",
      "t_Imem : \n",
      " [0.000e+00 1.000e-05 2.000e-05 ... 9.997e-02 9.998e-02 9.999e-02]\n"
     ]
    }
   ],
   "source": [
    "from teili.tools.visualizer.DataModels import StateVariablesModel\n",
    "\n",
    "# create from array/list\n",
    "state_variable_names = ['var_name']\n",
    "num_neurons, num_timesteps = 6, 50\n",
    "state_variables       = [np.random.random((num_neurons, num_timesteps))]\n",
    "state_variables_times = [np.linspace(0, 100, num_timesteps)]\n",
    "SVM = StateVariablesModel(state_variable_names, state_variables, state_variables_times)\n",
    "\n",
    "# from brian state monitorS\n",
    "skip_not_rec_neuron_ids=False\n",
    "SVM = StateVariablesModel.from_brian_state_monitors([statemonN1, statemonN2], skip_not_rec_neuron_ids)\n",
    "\n",
    "skip_not_rec_neuron_ids=True\n",
    "SVM = StateVariablesModel.from_brian_state_monitors([statemonN1, statemonN2], skip_not_rec_neuron_ids)\n",
    "\n",
    "print('Then the created StateVariablesModel SVM has the following attributes:')\n",
    "for var in vars(SVM):\n",
    "    print(var,': \\n', getattr(SVM, var))"
   ]
  },
  {
   "cell_type": "markdown",
   "metadata": {
    "collapsed": true
   },
   "source": [
    "# 2. Plot the collected data\n",
    "## 2.1 Define PlotSettings\n",
    "* The PlotSettings are defined only once for all the plots that will be created. This should make it easier to get consistent color-codings, fontsizes and markersize across different plots.\n",
    "* The colors can be defined as RGBA to additionally define the transparency"
   ]
  },
  {
   "cell_type": "code",
   "execution_count": 6,
   "metadata": {},
   "outputs": [],
   "source": [
    "from teili.tools.visualizer.DataViewers import PlotSettings\n",
    "MyPlotSettings = PlotSettings(fontsize_title=20, fontsize_legend=14, fontsize_axis_labels=14,\n",
    "                               marker_size = 30,             # default 5\n",
    "                               colors = ['r', 'b'],          # default ['r', 'b', 'g', 'c', 'k', 'm', 'y']\n",
    ")"
   ]
  },
  {
   "cell_type": "markdown",
   "metadata": {},
   "source": [
    "## 2.2 Call the DataController of the desired type of plot\n",
    "So far in teili:\n",
    "* Histogram\n",
    "* Rasterplot\n",
    "* Lineplot"
   ]
  },
  {
   "cell_type": "markdown",
   "metadata": {},
   "source": [
    "## 2.2a)  Histogram"
   ]
  },
  {
   "cell_type": "markdown",
   "metadata": {},
   "source": [
    "### Histogram - Inputs\n",
    "    * DataModel_to_attr             --> e.g. [(spikemonN1, 'i'), (spikemonN2, 'i')] OR\n",
    "                                                [(EventsModel, 'i'), (EventsModel, 'i')]\n",
    "    * MyPlotSettings=PlotSettings()\n",
    "    * subgroup_labels=None          --> e.g. ['Neurongroup N1', 'Neurongroup N2']\n",
    "    * bins=None                     --> e.g. range(0,9)\n",
    "    * orientation='vertical'        --> 'horizontal' OR 'vertical'\n",
    "    * title='histogram\n",
    "    * xlabel='bins'\n",
    "    * ylabel='count',\n",
    "    * backend='matplotlib'\n",
    "    * show_immediately=False"
   ]
  },
  {
   "cell_type": "code",
   "execution_count": 7,
   "metadata": {},
   "outputs": [
    {
     "data": {
      "image/png": "[encoded data removed]",
      "text/plain": [
       "<Figure size 432x288 with 1 Axes>"
      ]
     },
     "metadata": {
      "needs_background": "light"
     },
     "output_type": "display_data"
    }
   ],
   "source": [
    "''' Simple example to plot a histogram of two NeuronGroups '''\n",
    "from teili.tools.visualizer.DataControllers import Histogram\n",
    "\n",
    "# plot data from BrianSpikeMontiors/StateMonitors\n",
    "DataModel_to_attr =  [(spikemonN1, 'i'), (spikemonN2, 'i')]\n",
    "\n",
    "# or plot data from DataModels\n",
    "# EM1 = EventsModel.from_brian_spike_monitor(spikemonN1)\n",
    "# EM2 = EventsModel.from_brian_spike_monitor(spikemonN2)\n",
    "# DataModel_to_attr = {EM1: 'neuron_ids', EM2:'neuron_ids'}\n",
    "subgroup_labels = ['N1', 'N2']\n",
    "\n",
    "# MATPLOTLIB backend\n",
    "HC = Histogram(DataModel_to_attr=DataModel_to_attr,\n",
    "                MyPlotSettings=MyPlotSettings,\n",
    "                subgroup_labels=subgroup_labels,\n",
    "                backend='matplotlib')"
   ]
  },
  {
   "cell_type": "code",
   "execution_count": null,
   "metadata": {},
   "outputs": [],
   "source": [
    "# PYQTGRAPH backend\n",
    "HC = Histogram(DataModel_to_attr=DataModel_to_attr, \n",
    "                MyPlotSettings=MyPlotSettings,           \n",
    "                subgroup_labels=subgroup_labels,\n",
    "                backend='pyqtgraph',\n",
    "                QtApp=QtApp, show_immediately=True)"
   ]
  },
  {
   "cell_type": "markdown",
   "metadata": {},
   "source": [
    "## 2.2b) Rasterplot"
   ]
  },
  {
   "cell_type": "markdown",
   "metadata": {},
   "source": [
    "### Rasterplot - Inputs\n",
    "\n",
    "    * MyEventsModels                --> list of EventsModel or BrianSpikeMonitors\n",
    "    * MyPlotSettings=PlotSettings()\n",
    "    * subgroup_labels=None          --> ['N1', 'N2']\n",
    "    * time_range=None               --> (0, 0.9)\n",
    "    * neuron_id_range=None,         --> (0, 4)\n",
    "    * title='raster plot'\n",
    "    * xlabel='time\n",
    "    * ylabel='count',\n",
    "    * backend='matplotlib'\n",
    "    * add_histogram=False           --> show histogram of spikes per neuron id next to rasterplot\n",
    "    * show_immediately=False"
   ]
  },
  {
   "cell_type": "code",
   "execution_count": 8,
   "metadata": {},
   "outputs": [
    {
     "data": {
      "image/png": "[encoded data removed]",
      "text/plain": [
       "<Figure size 432x288 with 1 Axes>"
      ]
     },
     "metadata": {
      "needs_background": "light"
     },
     "output_type": "display_data"
    },
    {
     "data": {
      "image/png": "[encoded data removed]",
      "text/plain": [
       "<Figure size 432x288 with 2 Axes>"
      ]
     },
     "metadata": {
      "needs_background": "light"
     },
     "output_type": "display_data"
    }
   ],
   "source": [
    "from teili.tools.visualizer.DataControllers import Rasterplot\n",
    "''' Simple example to plot a rasterplot of two NeuronGroups '''\n",
    "\n",
    "# plot data from BrianSpikeMontiors\n",
    "MyEventsModels = [spikemonN1, spikemonN2]\n",
    "\n",
    "# or plot data from EventsModel\n",
    "# EM1 = EventsModel.from_brian_spike_monitor(spikemonN1)\n",
    "# EM2 = EventsModel.from_brian_spike_monitor(spikemonN2)\n",
    "# MyEventsModels = [EM1, EM2]\n",
    "\n",
    "subgroup_labels = ['N1', 'N2']\n",
    "\n",
    "# MATPLOTLIB backend - WITHOUT HISTOGRAM\n",
    "RC = Rasterplot(MyEventsModels=MyEventsModels, MyPlotSettings=MyPlotSettings, subgroup_labels=subgroup_labels, backend='matplotlib')\n",
    "# MATPLOTLIB backend - WITH HISTOGRAM\n",
    "RC = Rasterplot(MyEventsModels=MyEventsModels, MyPlotSettings=MyPlotSettings, subgroup_labels=subgroup_labels, add_histogram=True)"
   ]
  },
  {
   "cell_type": "code",
   "execution_count": null,
   "metadata": {},
   "outputs": [],
   "source": [
    "# PYQTGRAPH backend - WITHOUT HISTOGRAM\n",
    "RC = Rasterplot(MyEventsModels=MyEventsModels, MyPlotSettings=MyPlotSettings, subgroup_labels=subgroup_labels, backend='pyqtgraph', QtApp=QtApp)\n",
    "# PYQTGRAPH backend - WITH HISTOGRAM\n",
    "RC = Rasterplot(MyEventsModels=MyEventsModels, MyPlotSettings=MyPlotSettings, subgroup_labels=subgroup_labels,\n",
    "                    add_histogram=True, backend='pyqtgraph', QtApp=QtApp, show_immediately=True)"
   ]
  },
  {
   "cell_type": "markdown",
   "metadata": {},
   "source": [
    "## 2.2c) LinePlot"
   ]
  },
  {
   "cell_type": "markdown",
   "metadata": {},
   "source": [
    "### Lineplot - Inputs\n",
    "\n",
    "    * DataModel_to_x_and_y_attr --> e.g. [(statemonN1, ('Imem', 't_Imem')),\n",
    "                                                   (statemonN2, ('Iahp', 't_Iahp'))]\n",
    "                                            OR\n",
    "                                         [(StateVariablesModel_N1, ('Imem', 't_Imem')),\n",
    "                                                  (StateVariablesModel_N2, ('Iahp', 't_Iahp'))]\n",
    "    * MyPlotSettings=PlotSettings()\n",
    "    * subgroup_labels=None      --> ['N1', 'N2']\n",
    "    * x_range=None,             --> (0, 0.9)\n",
    "    * y_range=None,             --> (0, 4)\n",
    "    * title='Lineplot'\n",
    "    * xlabel=None\n",
    "    * ylabel=None\n",
    "    * backend='matplotlib'\n",
    "    * show_immediately=False"
   ]
  },
  {
   "cell_type": "code",
   "execution_count": 9,
   "metadata": {},
   "outputs": [
    {
     "data": {
      "image/png": "[encoded data removed]",
      "text/plain": [
       "<Figure size 432x288 with 1 Axes>"
      ]
     },
     "metadata": {
      "needs_background": "light"
     },
     "output_type": "display_data"
    }
   ],
   "source": [
    "from teili.tools.visualizer.DataControllers import Lineplot\n",
    "''' Simple example to plot a lineplot of two NeuronGroups '''\n",
    "\n",
    "# plot data from BrianSpikeMontiors\n",
    "DataModel_to_x_and_y_attr = [(statemonN1, ('t', 'Iin')), (statemonN2, ('t', 'Imem'))]\n",
    "# or plot data from StateVariablesModel\n",
    "SVM_N1 = StateVariablesModel.from_brian_state_monitors([statemonN1])\n",
    "SVM_N2 = StateVariablesModel.from_brian_state_monitors([statemonN2])\n",
    "DataModel_to_x_and_y_attr = [(SVM_N1, ('t_Iin', 'Iin')), (SVM_N2, ('t_Imem', 'Imem'))]\n",
    "\n",
    "subgroup_labels = ['N1', 'N2']\n",
    "\n",
    "# MATPLOTLIB backend\n",
    "LC = Lineplot(DataModel_to_x_and_y_attr=DataModel_to_x_and_y_attr,\n",
    "                  MyPlotSettings=MyPlotSettings,\n",
    "                  subgroup_labels=subgroup_labels, \n",
    "                  backend='matplotlib')"
   ]
  },
  {
   "cell_type": "code",
   "execution_count": null,
   "metadata": {},
   "outputs": [],
   "source": [
    "# PYQTGRAPH backend\n",
    "LC = Lineplot(DataModel_to_x_and_y_attr=DataModel_to_x_and_y_attr,\n",
    "                  MyPlotSettings=MyPlotSettings,\n",
    "                  subgroup_labels=subgroup_labels, \n",
    "                  backend='pyqtgraph', QtApp=QtApp, show_immediately=True)"
   ]
  },
  {
   "cell_type": "markdown",
   "metadata": {},
   "source": [
    "# Additional functionalities\n",
    "\n",
    "# A1) Combine different plots\n",
    "## ... with matplotlib"
   ]
  },
  {
   "cell_type": "code",
   "execution_count": 10,
   "metadata": {
    "scrolled": false
   },
   "outputs": [
    {
     "data": {
      "image/png": "[encoded data removed]",
      "text/plain": [
       "<Figure size 432x288 with 4 Axes>"
      ]
     },
     "metadata": {
      "needs_background": "light"
     },
     "output_type": "display_data"
    }
   ],
   "source": [
    "# define plot structure BEFOREHAND\n",
    "mainfig = plt.figure()\n",
    "subfig1 = mainfig.add_subplot(321)\n",
    "subfig2 = mainfig.add_subplot(322)\n",
    "subfig3 = mainfig.add_subplot(324)\n",
    "subfig4 = mainfig.add_subplot(325)\n",
    "\n",
    "plt.subplots_adjust(left=0.125, right=0.9, bottom=0.1, top=4., wspace=0.05, hspace=0.2)\n",
    "\n",
    "MyEventsModels = [spikemonN1, spikemonN2]\n",
    "subgroup_labels = ['N1', 'N2']\n",
    "RC = Rasterplot(MyEventsModels=MyEventsModels, MyPlotSettings=MyPlotSettings, subgroup_labels=subgroup_labels,\n",
    "                 mainfig=mainfig, subfig_rasterplot=subfig1, subfig_histogram = subfig2,\n",
    "                 add_histogram=True, show_immediately=False)\n",
    "\n",
    "DataModel_to_attr = [(spikemonN1, 'i')]\n",
    "subgroup_labels = ['N1']\n",
    "HC = Histogram(DataModel_to_attr=DataModel_to_attr, MyPlotSettings=MyPlotSettings, \n",
    "                 subgroup_labels=subgroup_labels, mainfig=mainfig, subfig=subfig3, show_immediately=False)\n",
    "\n",
    "DataModel_to_attr = [(spikemonN2, 'i')]\n",
    "subgroup_labels = ['N2']\n",
    "HC = Histogram(DataModel_to_attr=DataModel_to_attr, MyPlotSettings=MyPlotSettings, \n",
    "             subgroup_labels=subgroup_labels, mainfig=mainfig, subfig=subfig4, show_immediately=True)"
   ]
  },
  {
   "cell_type": "markdown",
   "metadata": {},
   "source": [
    "## ... with pyqtgraph"
   ]
  },
  {
   "cell_type": "code",
   "execution_count": null,
   "metadata": {},
   "outputs": [],
   "source": [
    "# define plot structure BEFOREHAND\n",
    "mainfig = pg.GraphicsWindow()\n",
    "subfig1 = mainfig.addPlot(row=0, col=0)\n",
    "subfig2 = mainfig.addPlot(row=0, col=1)\n",
    "subfig2.setYLink(subfig1)\n",
    "subfig3 = mainfig.addPlot(row=1, col=1)\n",
    "subfig4 = mainfig.addPlot(row=2, col=0)\n",
    "\n",
    "plt.subplots_adjust(left=0.125, right=0.9, bottom=0.1, top=4., wspace=0.05, hspace=0.2)\n",
    "\n",
    "MyEventsModels = [spikemonN1, spikemonN2]\n",
    "subgroup_labels = ['N1', 'N2']\n",
    "RC = Rasterplot(MyEventsModels=MyEventsModels, MyPlotSettings=MyPlotSettings, subgroup_labels=subgroup_labels,\n",
    "                         mainfig=mainfig, subfig_rasterplot=subfig1, subfig_histogram = subfig2, QtApp=QtApp,\n",
    "                         backend='pyqtgraph', add_histogram=True, show_immediately=False)\n",
    "\n",
    "DataModel_to_attr = [(spikemonN1, 'i')]\n",
    "subgroup_labels = ['N1']\n",
    "HC = Histogram(DataModel_to_attr=DataModel_to_attr, MyPlotSettings=MyPlotSettings, \n",
    "                         subgroup_labels=subgroup_labels,\n",
    "                         backend='pyqtgraph', mainfig=mainfig, subfig=subfig3,  QtApp=QtApp,\n",
    "                         show_immediately=False)\n",
    "\n",
    "DataModel_to_attr = [(spikemonN1, 'i')]\n",
    "subgroup_labels = ['N2']\n",
    "HC = Histogram(DataModel_to_attr=DataModel_to_attr, MyPlotSettings=MyPlotSettings,\n",
    "                         subgroup_labels=subgroup_labels,\n",
    "                         backend='pyqtgraph', mainfig=mainfig, subfig=subfig4, QtApp=QtApp,\n",
    "                         show_immediately=True)"
   ]
  },
  {
   "cell_type": "markdown",
   "metadata": {
    "collapsed": true
   },
   "source": [
    "# A2) Add second plot with a detailed view of a given plot"
   ]
  },
  {
   "cell_type": "code",
   "execution_count": null,
   "metadata": {},
   "outputs": [],
   "source": [
    "''' Create original plot of which you would like to have a detailed version as well TWICE (sorry, about that...)'''\n",
    "MyEventsModels = [spikemonN1, spikemonN2]\n",
    "subgroup_labels = ['N1', 'N2']\n",
    "\n",
    "mainfig = pg.GraphicsWindow()\n",
    "subfig1 = mainfig.addPlot(row=0, col=0)\n",
    "mainfig.nextRow()\n",
    "subfig2 = mainfig.addPlot(row=1, col=0)\n",
    "\n",
    "\n",
    "RC_org = Rasterplot(MyEventsModels=MyEventsModels, MyPlotSettings=MyPlotSettings, subgroup_labels=subgroup_labels,\n",
    "                              mainfig=mainfig, subfig_rasterplot=subfig1,\n",
    "                         QtApp=QtApp, backend='pyqtgraph', show_immediately=False)\n",
    "RC_detail = Rasterplot(MyEventsModels=MyEventsModels, MyPlotSettings=MyPlotSettings, subgroup_labels=subgroup_labels,\n",
    "                                 mainfig=mainfig, subfig_rasterplot=subfig2,\n",
    "                         QtApp=QtApp, backend='pyqtgraph', show_immediately=False)\n",
    "\n",
    "RC_org.connect_detailed_subplot(filled_subplot_original_view=RC_org.viewer.subfig_rasterplot,\n",
    "                                filled_subplot_detailed_view=RC_detail.viewer.subfig_rasterplot,\n",
    "                                show_plot=True)"
   ]
  },
  {
   "cell_type": "code",
   "execution_count": null,
   "metadata": {},
   "outputs": [],
   "source": []
  }
 ],
 "metadata": {
  "anaconda-cloud": {},
  "kernelspec": {
   "display_name": "Python (conda36)",
   "language": "python",
   "name": "conda36"
  },
  "language_info": {
   "codemirror_mode": {
    "name": "ipython",
    "version": 3
   },
   "file_extension": ".py",
   "mimetype": "text/x-python",
   "name": "python",
   "nbconvert_exporter": "python",
   "pygments_lexer": "ipython3",
   "version": "3.6.8"
  }
 },
 "nbformat": 4,
 "nbformat_minor": 2
}
