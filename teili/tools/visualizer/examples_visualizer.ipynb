{
 "cells": [
  {
   "cell_type": "markdown",
   "metadata": {},
   "source": [
    "# Visualization - General structure\n",
    "* *** Model *** : The model represents the data, and does nothing else. The model does NOT depend on the controller or the view.\n",
    "    * EventsModel\n",
    "    * StateVariablesModel\n",
    "    * ...\n",
    "    \n",
    "* *** View *** : The view displays the model data, and sends user actions (e.g. button clicks) to the controller. The view can:\n",
    "* be independent of both the model and the controller; or\n",
    "* actually be the controller, and therefore depend on the model.\n",
    "    * HistogramViewer\n",
    "    * RasterplotViewer\n",
    "    * LineplotViewer\n",
    "    * ...\n",
    "    \n",
    "* *** Controller *** : The controller provides model data to the view, and interprets user actions such as button clicks. The controller depends on the view and the model. In some cases, the controller and the view are the same object.\n",
    "    * HistogramController\n",
    "    * RasterplotController\n",
    "    * LineplotController\n",
    "    * ...\n",
    "    \n",
    "* *** PlotSettings()***\n",
    "    * font sizes\n",
    "    * ...\n",
    "\n",
    "\n",
    "# How to use it - in short\n",
    "** 1) get data **\n",
    "\n",
    "spikemonN1, spikemonN2, statemonN1, statemonN2 = run_your_own_brian_network()\n",
    "\n",
    "** 2) define PLOTSETTING **\n",
    "\n",
    "from teili.tools.visualizer.DataViewers import PlotSettings\n",
    "MyPlotSettings = PlotSettings(fontsize_title=20, fontsize_legend=14, fontsize_axis_labels=14,\n",
    "                               marker_size = 30,colors = ['r', 'b', 'g', 'c', 'k', 'm', 'y'])\n",
    "                               \n",
    "** 3) call CONTROLLER of desired type of plot, e.g. HistogramController, RasterplotController, LineplotController, ... **\n",
    "\n",
    "from teili.tools.visualizer.DataControllers import HistogramController\n",
    "DataModel_to_attr =  [(spikemonN1, 'i'), (spikemonN2, 'i')]\n",
    "subgroup_labels    = ['N1',               'N2']\n",
    "HC = HistogramController(MyPlotSettings=MyPlotSettings,\n",
    "                         DataModel_to_attr=DataModel_to_attr,\n",
    "                         subgroup_labels=subgroup_labels,\n",
    "                         backend='matplotlib')"
   ]
  },
  {
   "cell_type": "markdown",
   "metadata": {
    "collapsed": true
   },
   "source": [
    "### If you want to change anything else on the main figure/window or one of the subplots ... \n",
    "\n",
    "... you can directly access the mainfigure (matplotlib: figure, pyqtgraph: qt-window) as\n",
    "* **my_controller.viewer.mainfig**\n",
    "* or the corresponding subplot under **my_controller.viewer.subfig**"
   ]
  },
  {
   "cell_type": "markdown",
   "metadata": {},
   "source": [
    " "
   ]
  },
  {
   "cell_type": "markdown",
   "metadata": {},
   "source": [
    " "
   ]
  },
  {
   "cell_type": "markdown",
   "metadata": {},
   "source": [
    "# How to use it - the slightly longer version"
   ]
  },
  {
   "cell_type": "code",
   "execution_count": 14,
   "metadata": {},
   "outputs": [
    {
     "name": "stderr",
     "output_type": "stream",
     "text": [
      "WARNING    /home/renate/SciSoftZeagull/anaconda/envs/conda36/lib/python3.6/site-packages/IPython/core/magics/pylab.py:160: UserWarning: pylab import has clobbered these variables: ['plt', 'var', 'concatenate']\n",
      "`%matplotlib` prevents importing * from pylab and numpy\n",
      "  \"\\n`%matplotlib` prevents importing * from pylab and numpy\"\n",
      " [py.warnings]\n"
     ]
    },
    {
     "name": "stdout",
     "output_type": "stream",
     "text": [
      "Populating the interactive namespace from numpy and matplotlib\n"
     ]
    }
   ],
   "source": [
    "%pylab inline\n",
    "import numpy as np\n",
    "import os\n",
    "# import sys\n",
    "# sys.path.append(os.getenv(\"HOME\")+'/src/teili/')\n",
    "\n",
    "from brian2 import us, ms, second, prefs, defaultclock, start_scope, SpikeGeneratorGroup, SpikeMonitor, StateMonitor\n",
    "import matplotlib.pylab as plt\n",
    "import pyqtgraph as pg\n",
    "from PyQt5 import QtGui\n",
    "\n",
    "from teili.core.groups import Neurons, Connections\n",
    "from teili import teiliNetwork\n",
    "from teili.models.neuron_models import DPI\n",
    "from teili.models.synapse_models import DPISyn\n",
    "from teili.models.parameters.dpi_neuron_param import parameters as neuron_model_param\n",
    "\n",
    "QtApp = QtGui.QApplication([])\n",
    "\n",
    "def run_brian_network():\n",
    "    prefs.codegen.target = \"numpy\"\n",
    "    defaultclock.dt = 10 * us\n",
    "    \n",
    "    start_scope()\n",
    "    N_input, N_N1, N_N2 = 1, 5, 3\n",
    "    duration_sim = 200\n",
    "    Net = teiliNetwork()\n",
    "    # setup spike generator\n",
    "    spikegen_spike_times = np.sort(np.random.choice(size=30, a=range(0, duration_sim, 5), replace=False)) * ms\n",
    "    spikegen_neuron_ids  = np.zeros_like(spikegen_spike_times) / ms\n",
    "    gInpGroup = SpikeGeneratorGroup(N_input, indices=spikegen_neuron_ids, times=spikegen_spike_times, name='gtestInp')\n",
    "    # setup neurons\n",
    "    testNeurons1 = Neurons(N_N1, equation_builder=DPI(num_inputs=2), name=\"testNeuron\")\n",
    "    testNeurons1.set_params(neuron_model_param)\n",
    "    testNeurons2 = Neurons(N_N2, equation_builder=DPI(num_inputs=2), name=\"testNeuron2\")\n",
    "    testNeurons2.set_params(neuron_model_param)\n",
    "    # setup connections\n",
    "    InpSyn = Connections(gInpGroup, testNeurons1, equation_builder=DPISyn(), name=\"testSyn\", verbose=False)\n",
    "    InpSyn.connect(True)\n",
    "    InpSyn.weight = '100 + rand() * 50'\n",
    "    Syn = Connections(testNeurons1, testNeurons2, equation_builder=DPISyn(), name=\"testSyn2\")\n",
    "    Syn.connect(True)\n",
    "    Syn.weight = '100 + rand() * 50'\n",
    "    # spike monitors input and network\n",
    "    spikemonInp = SpikeMonitor(gInpGroup, name='spikemonInp')\n",
    "    spikemonN1 = SpikeMonitor(testNeurons1, name='spikemon')\n",
    "    spikemonN2 = SpikeMonitor(testNeurons2, name='spikemonOut')\n",
    "    # state monitor neurons\n",
    "    statemonN1 = StateMonitor(testNeurons1, variables=[\"Iin\", \"Imem\"], record=[0, 3], name='statemonNeu')\n",
    "    statemonN2 = StateMonitor(testNeurons2, variables=['Iahp'], record=0, name='statemonNeuOut')\n",
    "    Net.add(gInpGroup, testNeurons1, testNeurons2, InpSyn, Syn, spikemonN1, spikemonN2, statemonN1, statemonN2)\n",
    "    # run simulation\n",
    "    Net.run(duration_sim * ms)\n",
    "    print ('Simulation run for {} ms'.format(duration_sim))\n",
    "    return spikemonN1, spikemonN2, statemonN1, statemonN2"
   ]
  },
  {
   "cell_type": "markdown",
   "metadata": {},
   "source": [
    "# 1. Get the data to plot"
   ]
  },
  {
   "cell_type": "markdown",
   "metadata": {},
   "source": [
    "## Option A: run brian network to get SpikeMonitors and StateMonitors"
   ]
  },
  {
   "cell_type": "code",
   "execution_count": 15,
   "metadata": {},
   "outputs": [
    {
     "name": "stdout",
     "output_type": "stream",
     "text": [
      "Simulation run for 200 ms\n"
     ]
    }
   ],
   "source": [
    "''' Run brian network and return SpikeMonitors and StateMonitors of different variables and neurongroups '''\n",
    "spikemonN1, spikemonN2, statemonN1, statemonN2 = run_brian_network()"
   ]
  },
  {
   "cell_type": "markdown",
   "metadata": {},
   "source": [
    "## Option B: create DataModel instance from arrays, lists or brian-SpikeMonitors/StateMonitors\n",
    "\n",
    "### Available DataModels:\n",
    "* EventsModels --> stores neuron_ids and spike_times\n",
    "* StateVariablesModel --> stores any number of variables with their name and the list of timepoints when the variable was sampled"
   ]
  },
  {
   "cell_type": "markdown",
   "metadata": {},
   "source": [
    "### EventsModel"
   ]
  },
  {
   "cell_type": "code",
   "execution_count": 16,
   "metadata": {},
   "outputs": [
    {
     "name": "stdout",
     "output_type": "stream",
     "text": [
      "Then the created EventsModel EM has the following attributes:\n",
      "neuron_ids : \n",
      " []\n",
      "spike_times : \n",
      " []\n"
     ]
    }
   ],
   "source": [
    "# create from array/list\n",
    "from teili.tools.visualizer.DataModels import EventsModel\n",
    "neuron_ids  = [1, 1, 1, 2, 3, 1, 4, 5]\n",
    "spike_times = [11, 14, 14, 16, 17, 25, 36, 40]\n",
    "EM = EventsModel(neuron_ids=neuron_ids, spike_times=spike_times)\n",
    "\n",
    "# create from brian spike monitor\n",
    "EM = EventsModel.from_brian_spike_monitor(spikemonN1)\n",
    "\n",
    "print('Then the created EventsModel EM has the following attributes:')\n",
    "for var in vars(EM):\n",
    "    print(var,': \\n', getattr(EM, var))"
   ]
  },
  {
   "cell_type": "markdown",
   "metadata": {},
   "source": [
    "### StateVariablesModel"
   ]
  },
  {
   "cell_type": "code",
   "execution_count": 17,
   "metadata": {},
   "outputs": [
    {
     "name": "stdout",
     "output_type": "stream",
     "text": [
      "Then the created StateVariablesModel SVM has the following attributes:\n",
      "Iin : \n",
      " [[0.00000000e+00 0.00000000e+00]\n",
      " [0.00000000e+00 0.00000000e+00]\n",
      " [4.69156925e-10 4.43708685e-10]\n",
      " ...\n",
      " [1.62154995e-10 1.52853834e-10]\n",
      " [1.61849204e-10 1.52565528e-10]\n",
      " [1.61543988e-10 1.52277765e-10]]\n",
      "t_Iin : \n",
      " [0.0000e+00 1.0000e-05 2.0000e-05 ... 1.9997e-01 1.9998e-01 1.9999e-01]\n",
      "Imem : \n",
      " [[0.00000000e+00 0.00000000e+00]\n",
      " [4.74578721e-33 4.74578721e-33]\n",
      " [2.20503755e-14 2.08543082e-14]\n",
      " ...\n",
      " [3.73396627e-11 3.51753276e-11]\n",
      " [3.73032957e-11 3.51410515e-11]\n",
      " [3.72669391e-11 3.51067854e-11]]\n",
      "t_Imem : \n",
      " [0.0000e+00 1.0000e-05 2.0000e-05 ... 1.9997e-01 1.9998e-01 1.9999e-01]\n",
      "Iahp : \n",
      " [[5.e-13]\n",
      " [5.e-13]\n",
      " [5.e-13]\n",
      " ...\n",
      " [5.e-13]\n",
      " [5.e-13]\n",
      " [5.e-13]]\n",
      "t_Iahp : \n",
      " [0.0000e+00 1.0000e-05 2.0000e-05 ... 1.9997e-01 1.9998e-01 1.9999e-01]\n"
     ]
    }
   ],
   "source": [
    "from teili.tools.visualizer.DataModels import StateVariablesModel\n",
    "\n",
    "# create from array/list\n",
    "state_variable_names = ['var_name']\n",
    "num_neurons, num_timesteps = 6, 50\n",
    "state_variables       = [np.random.random((num_neurons, num_timesteps))]\n",
    "state_variables_times = [np.linspace(0, 100, num_timesteps)]\n",
    "SVM = StateVariablesModel(state_variable_names, state_variables, state_variables_times)\n",
    "\n",
    "# from brian state monitorS\n",
    "skip_not_rec_neuron_ids=False\n",
    "SVM = StateVariablesModel.from_brian_state_monitors([statemonN1, statemonN2], skip_not_rec_neuron_ids)\n",
    "\n",
    "skip_not_rec_neuron_ids=True\n",
    "SVM = StateVariablesModel.from_brian_state_monitors([statemonN1, statemonN2], skip_not_rec_neuron_ids)\n",
    "\n",
    "print('Then the created StateVariablesModel SVM has the following attributes:')\n",
    "for var in vars(SVM):\n",
    "    print(var,': \\n', getattr(SVM, var))"
   ]
  },
  {
   "cell_type": "markdown",
   "metadata": {
    "collapsed": true
   },
   "source": [
    "# 2. Plot the collected data\n",
    "## 2.1 Define PlotSettings\n",
    "* The PlotSettings are defined only once for all the plots that will be created. This should make it easier to get consistent color-codings, fontsizes and markersize across different plots.\n",
    "* The colors can be defined as RGBA to additionally define the transparency"
   ]
  },
  {
   "cell_type": "code",
   "execution_count": 18,
   "metadata": {},
   "outputs": [],
   "source": [
    "from teili.tools.visualizer.DataViewers import PlotSettings\n",
    "MyPlotSettings = PlotSettings(fontsize_title=20, fontsize_legend=14, fontsize_axis_labels=14,\n",
    "                               marker_size = 30,             # default 5\n",
    "                               colors = ['r', 'b'],          # default ['r', 'b', 'g', 'c', 'k', 'm', 'y']\n",
    ")"
   ]
  },
  {
   "cell_type": "markdown",
   "metadata": {},
   "source": [
    "## 2.2 Call the DataController of the desired type of plot\n",
    "So far in teili:\n",
    "* HistogramController\n",
    "* RasterplotController\n",
    "* LineplotController"
   ]
  },
  {
   "cell_type": "markdown",
   "metadata": {},
   "source": [
    "## 2.2a)  Histogram"
   ]
  },
  {
   "cell_type": "markdown",
   "metadata": {},
   "source": [
    "### Histogramcontroller - Inputs\n",
    "    * MyPlotSettings\n",
    "    * DataModel_to_attr             --> e.g. [(spikemonN1, 'i'), (spikemonN2, 'i')] OR\n",
    "                                                [(EventsModel, 'i'), (EventsModel, 'i')]\n",
    "    * subgroup_labels=None          --> e.g. ['Neurongroup N1', 'Neurongroup N2']\n",
    "    * bins=None                     --> e.g. range(0,9)\n",
    "    * orientation='vertical'        --> 'horizontal' OR 'vertical'\n",
    "    * title='histogram\n",
    "    * xlabel='bins'\n",
    "    * ylabel='count',\n",
    "    * backend='matplotlib'\n",
    "    * show_immediately=True"
   ]
  },
  {
   "cell_type": "code",
   "execution_count": 19,
   "metadata": {},
   "outputs": [
    {
     "data": {
      "image/png": "[encoded data removed]",
      "text/plain": [
       "<Figure size 432x288 with 1 Axes>"
      ]
     },
     "metadata": {
      "needs_background": "light"
     },
     "output_type": "display_data"
    }
   ],
   "source": [
    "''' Simple example to plot a histogram of two NeuronGroups '''\n",
    "from teili.tools.visualizer.DataControllers import HistogramController\n",
    "\n",
    "# plot data from BrianSpikeMontiors/StateMonitors\n",
    "DataModel_to_attr =  [(spikemonN1, 'i'), (spikemonN2, 'i')]\n",
    "\n",
    "# or plot data from DataModels\n",
    "# EM1 = EventsModel.from_brian_spike_monitor(spikemonN1)\n",
    "# EM2 = EventsModel.from_brian_spike_monitor(spikemonN2)\n",
    "# DataModel_to_attr = {EM1: 'neuron_ids', EM2:'neuron_ids'}\n",
    "subgroup_labels = ['N1', 'N2']\n",
    "\n",
    "# MATPLOTLIB backend\n",
    "HC = HistogramController(MyPlotSettings=MyPlotSettings,\n",
    "                         DataModel_to_attr=DataModel_to_attr,\n",
    "                         subgroup_labels=subgroup_labels,\n",
    "                         backend='matplotlib')"
   ]
  },
  {
   "cell_type": "code",
   "execution_count": 20,
   "metadata": {},
   "outputs": [],
   "source": [
    "# PYQTGRAPH backend\n",
    "HC = HistogramController(MyPlotSettings=MyPlotSettings,\n",
    "                         DataModel_to_attr=DataModel_to_attr, \n",
    "                         subgroup_labels=subgroup_labels,\n",
    "                         backend='pyqtgraph',\n",
    "                         QtApp=QtApp)"
   ]
  },
  {
   "cell_type": "markdown",
   "metadata": {},
   "source": [
    "## 2.2b) Rasterplot"
   ]
  },
  {
   "cell_type": "markdown",
   "metadata": {},
   "source": [
    "### RasterplotController - Inputs\n",
    "\n",
    "    * MyPlotSettings\n",
    "    * MyEventsModels                --> list of EventsModel or BrianSpikeMonitors\n",
    "    * subgroup_labels=None          --> ['N1', 'N2']\n",
    "    * time_range=None               --> (0, 0.9)\n",
    "    * neuron_id_range=None,         --> (0, 4)\n",
    "    * title='raster plot'\n",
    "    * xlabel='time\n",
    "    * ylabel='count',\n",
    "    * backend='matplotlib'\n",
    "    * add_histogram=False           --> show histogram of spikes per neuron id next to rasterplot\n",
    "    * show_immediately=True"
   ]
  },
  {
   "cell_type": "code",
   "execution_count": 22,
   "metadata": {},
   "outputs": [
    {
     "data": {
      "image/png": "[encoded data removed]",
      "text/plain": [
       "<Figure size 432x288 with 1 Axes>"
      ]
     },
     "metadata": {
      "needs_background": "light"
     },
     "output_type": "display_data"
    },
    {
     "data": {
      "image/png": "[encoded data removed]",
      "text/plain": [
       "<Figure size 432x288 with 2 Axes>"
      ]
     },
     "metadata": {
      "needs_background": "light"
     },
     "output_type": "display_data"
    }
   ],
   "source": [
    "from teili.tools.visualizer.DataControllers import RasterplotController\n",
    "''' Simple example to plot a rasterplot of two NeuronGroups '''\n",
    "\n",
    "# plot data from BrianSpikeMontiors\n",
    "MyEventsModels = [spikemonN1, spikemonN2]\n",
    "\n",
    "# or plot data from EventsModel\n",
    "# EM1 = EventsModel.from_brian_spike_monitor(spikemonN1)\n",
    "# EM2 = EventsModel.from_brian_spike_monitor(spikemonN2)\n",
    "# MyEventsModels = [EM1, EM2]\n",
    "\n",
    "subgroup_labels = ['N1', 'N2']\n",
    "\n",
    "# MATPLOTLIB backend - WITHOUT HISTOGRAM\n",
    "RC = RasterplotController(MyEventsModels=MyEventsModels, MyPlotSettings=MyPlotSettings, subgroup_labels=subgroup_labels, backend='matplotlib')\n",
    "# MATPLOTLIB backend - WITH HISTOGRAM\n",
    "RC = RasterplotController(MyEventsModels=MyEventsModels, MyPlotSettings=MyPlotSettings, subgroup_labels=subgroup_labels, add_histogram=True)"
   ]
  },
  {
   "cell_type": "code",
   "execution_count": 23,
   "metadata": {},
   "outputs": [],
   "source": [
    "# PYQTGRAPH backend - WITHOUT HISTOGRAM\n",
    "RC = RasterplotController(MyEventsModels=MyEventsModels, MyPlotSettings=MyPlotSettings, subgroup_labels=subgroup_labels, backend='pyqtgraph', QtApp=QtApp)\n",
    "# PYQTGRAPH backend - WITH HISTOGRAM\n",
    "RC = RasterplotController(MyEventsModels=MyEventsModels, MyPlotSettings=MyPlotSettings, subgroup_labels=subgroup_labels, add_histogram=True,\n",
    "                            backend='pyqtgraph', QtApp=QtApp)"
   ]
  },
  {
   "cell_type": "markdown",
   "metadata": {},
   "source": [
    "## 2.2c) LinePlot"
   ]
  },
  {
   "cell_type": "markdown",
   "metadata": {},
   "source": [
    "### LineplotController - Inputs\n",
    "\n",
    "    * MyPlotSettings\n",
    "    * DataModel_to_x_and_y_attr --> e.g. [(statemonN1, ('Imem', 't_Imem')),\n",
    "                                                   (statemonN2, ('Iahp', 't_Iahp'))]\n",
    "                                            OR\n",
    "                                         [(StateVariablesModel_N1, ('Imem', 't_Imem')),\n",
    "                                                  (StateVariablesModel_N2, ('Iahp', 't_Iahp'))]\n",
    "    * subgroup_labels=None      --> ['N1', 'N2']\n",
    "    * x_range=None,             --> (0, 0.9)\n",
    "    * y_range=None,             --> (0, 4)\n",
    "    * title='raster plot'\n",
    "    * xlabel='time\n",
    "    * ylabel='count',\n",
    "    * backend='matplotlib'\n",
    "    * show_immediately=True"
   ]
  },
  {
   "cell_type": "code",
   "execution_count": 24,
   "metadata": {},
   "outputs": [
    {
     "data": {
      "image/png": "[encoded data removed]",
      "text/plain": [
       "<Figure size 432x288 with 1 Axes>"
      ]
     },
     "metadata": {
      "needs_background": "light"
     },
     "output_type": "display_data"
    }
   ],
   "source": [
    "from teili.tools.visualizer.DataControllers import LineplotController\n",
    "''' Simple example to plot a lineplot of two NeuronGroups '''\n",
    "\n",
    "# plot data from BrianSpikeMontiors\n",
    "DataModel_to_x_and_y_attr = [(statemonN1, ('t', 'Imem')), (statemonN2, ('t', 'Iahp'))]\n",
    "# or plot data from StateVariablesModel\n",
    "SVM_N1 = StateVariablesModel.from_brian_state_monitors([statemonN1])\n",
    "SVM_N2 = StateVariablesModel.from_brian_state_monitors([statemonN2])\n",
    "DataModel_to_x_and_y_attr = [(SVM_N1, ('t_Imem', 'Imem')), (SVM_N2, ('t_Iahp', 'Iahp'))]\n",
    "\n",
    "subgroup_labels = ['N1', 'N2']\n",
    "\n",
    "# MATPLOTLIB backend\n",
    "LC = LineplotController(MyPlotSettings=MyPlotSettings,\n",
    "                          DataModel_to_x_and_y_attr=DataModel_to_x_and_y_attr,\n",
    "                          subgroup_labels=subgroup_labels, \n",
    "                          backend='matplotlib')"
   ]
  },
  {
   "cell_type": "code",
   "execution_count": 25,
   "metadata": {},
   "outputs": [
    {
     "name": "stderr",
     "output_type": "stream",
     "text": [
      "WARNING    /home/renate/SciSoftZeagull/anaconda/envs/conda36/lib/python3.6/site-packages/pyqtgraph/graphicsItems/PlotCurveItem.py:131: RuntimeWarning: All-NaN slice encountered\n",
      "  b = (np.nanmin(d), np.nanmax(d))\n",
      " [py.warnings]\n"
     ]
    }
   ],
   "source": [
    "# PYQTGRAPH backend\n",
    "LC = LineplotController(MyPlotSettings=MyPlotSettings,\n",
    "                          DataModel_to_x_and_y_attr=DataModel_to_x_and_y_attr,\n",
    "                          subgroup_labels=subgroup_labels, \n",
    "                          backend='pyqtgraph', QtApp=QtApp)"
   ]
  },
  {
   "cell_type": "markdown",
   "metadata": {},
   "source": [
    "# Additional functionalities\n",
    "\n",
    "# A1) Combine different plots\n",
    "## ... with matplotlib"
   ]
  },
  {
   "cell_type": "code",
   "execution_count": 26,
   "metadata": {
    "scrolled": false
   },
   "outputs": [
    {
     "data": {
      "image/png": "[encoded data removed]",
      "text/plain": [
       "<Figure size 432x288 with 4 Axes>"
      ]
     },
     "metadata": {
      "needs_background": "light"
     },
     "output_type": "display_data"
    }
   ],
   "source": [
    "# define plot structure BEFOREHAND\n",
    "mainfig = plt.figure()\n",
    "subfig1 = mainfig.add_subplot(321)\n",
    "subfig2 = mainfig.add_subplot(322)\n",
    "subfig3 = mainfig.add_subplot(324)\n",
    "subfig4 = mainfig.add_subplot(325)\n",
    "\n",
    "plt.subplots_adjust(left=0.125, right=0.9, bottom=0.1, top=4., wspace=0.05, hspace=0.2)\n",
    "\n",
    "MyEventsModels = [spikemonN1, spikemonN2]\n",
    "subgroup_labels = ['N1', 'N2']\n",
    "RC = RasterplotController(MyEventsModels=MyEventsModels, MyPlotSettings=MyPlotSettings, subgroup_labels=subgroup_labels,\n",
    "                         mainfig=mainfig, subfig_rasterplot=subfig1, subfig_histogram = subfig2,\n",
    "                         add_histogram=True, show_immediately=False)\n",
    "\n",
    "DataModel_to_attr = [(spikemonN1, 'i')]\n",
    "subgroup_labels = ['N1']\n",
    "HC = HistogramController(MyPlotSettings=MyPlotSettings, DataModel_to_attr=DataModel_to_attr,\n",
    "                         subgroup_labels=subgroup_labels,\n",
    "                         mainfig=mainfig, subfig=subfig3, show_immediately=False)\n",
    "\n",
    "DataModel_to_attr = [(spikemonN2, 'i')]\n",
    "subgroup_labels = ['N2']\n",
    "HC = HistogramController(MyPlotSettings=MyPlotSettings, DataModel_to_attr=DataModel_to_attr,\n",
    "                         subgroup_labels=subgroup_labels,\n",
    "                         mainfig=mainfig, subfig=subfig4, show_immediately=True)"
   ]
  },
  {
   "cell_type": "markdown",
   "metadata": {},
   "source": [
    "## ... with pyqtgraph"
   ]
  },
  {
   "cell_type": "code",
   "execution_count": 27,
   "metadata": {},
   "outputs": [
    {
     "data": {
      "text/plain": [
       "<Figure size 432x288 with 0 Axes>"
      ]
     },
     "metadata": {},
     "output_type": "display_data"
    }
   ],
   "source": [
    "# define plot structure BEFOREHAND\n",
    "mainfig = pg.GraphicsWindow()\n",
    "subfig1 = mainfig.addPlot(row=0, col=0)\n",
    "subfig2 = mainfig.addPlot(row=0, col=1)\n",
    "subfig2.setYLink(subfig1)\n",
    "subfig3 = mainfig.addPlot(row=1, col=1)\n",
    "subfig4 = mainfig.addPlot(row=2, col=0)\n",
    "\n",
    "plt.subplots_adjust(left=0.125, right=0.9, bottom=0.1, top=4., wspace=0.05, hspace=0.2)\n",
    "\n",
    "MyEventsModels = [spikemonN1, spikemonN2]\n",
    "subgroup_labels = ['N1', 'N2']\n",
    "RC = RasterplotController(MyEventsModels=MyEventsModels, MyPlotSettings=MyPlotSettings, subgroup_labels=subgroup_labels,\n",
    "                         mainfig=mainfig, subfig_rasterplot=subfig1, subfig_histogram = subfig2, QtApp=QtApp,\n",
    "                         backend='pyqtgraph', add_histogram=True, show_immediately=False)\n",
    "\n",
    "DataModel_to_attr = [(spikemonN1, 'i')]\n",
    "subgroup_labels = ['N1']\n",
    "HC = HistogramController(MyPlotSettings=MyPlotSettings, DataModel_to_attr=DataModel_to_attr,\n",
    "                         subgroup_labels=subgroup_labels,\n",
    "                         backend='pyqtgraph', mainfig=mainfig, subfig=subfig3,  QtApp=QtApp,\n",
    "                         show_immediately=False)\n",
    "\n",
    "DataModel_to_attr = [(spikemonN1, 'i')]\n",
    "subgroup_labels = ['N2']\n",
    "HC = HistogramController(MyPlotSettings=MyPlotSettings, DataModel_to_attr=DataModel_to_attr,\n",
    "                         subgroup_labels=subgroup_labels,\n",
    "                         backend='pyqtgraph', mainfig=mainfig, subfig=subfig4, QtApp=QtApp,\n",
    "                         show_immediately=True)"
   ]
  },
  {
   "cell_type": "markdown",
   "metadata": {
    "collapsed": true
   },
   "source": [
    "# A2) Add second plot with a detailed view of a given plot"
   ]
  },
  {
   "cell_type": "code",
   "execution_count": 28,
   "metadata": {},
   "outputs": [],
   "source": [
    "''' Create original plot of which you would like to have a detailed version as well TWICE (sorry, about that...)'''\n",
    "MyEventsModels = [spikemonN1, spikemonN2]\n",
    "subgroup_labels = ['N1', 'N2']\n",
    "\n",
    "mainfig = pg.GraphicsWindow()\n",
    "subfig1 = mainfig.addPlot(row=0, col=0)\n",
    "mainfig.nextRow()\n",
    "subfig2 = mainfig.addPlot(row=1, col=0)\n",
    "\n",
    "\n",
    "RC_org = RasterplotController(MyEventsModels=MyEventsModels, MyPlotSettings=MyPlotSettings, subgroup_labels=subgroup_labels,\n",
    "                              mainfig=mainfig, subfig_rasterplot=subfig1,\n",
    "                         QtApp=QtApp, backend='pyqtgraph', show_immediately=False)\n",
    "RC_detail = RasterplotController(MyEventsModels=MyEventsModels, MyPlotSettings=MyPlotSettings, subgroup_labels=subgroup_labels,\n",
    "                                 mainfig=mainfig, subfig_rasterplot=subfig2,\n",
    "                         QtApp=QtApp, backend='pyqtgraph', show_immediately=False)\n",
    "\n",
    "RC_org.connect_detailed_subplot(filled_subplot_original_view=RC_org.viewer.subfig_rasterplot,\n",
    "                                filled_subplot_detailed_view=RC_detail.viewer.subfig_rasterplot,\n",
    "                                show_plot=True)"
   ]
  },
  {
   "cell_type": "code",
   "execution_count": null,
   "metadata": {},
   "outputs": [],
   "source": []
  }
 ],
 "metadata": {
  "anaconda-cloud": {},
  "kernelspec": {
   "display_name": "Python (conda36)",
   "language": "python",
   "name": "conda36"
  },
  "language_info": {
   "codemirror_mode": {
    "name": "ipython",
    "version": 3
   },
   "file_extension": ".py",
   "mimetype": "text/x-python",
   "name": "python",
   "nbconvert_exporter": "python",
   "pygments_lexer": "ipython3",
   "version": "3.6.7"
  }
 },
 "nbformat": 4,
 "nbformat_minor": 2
}
